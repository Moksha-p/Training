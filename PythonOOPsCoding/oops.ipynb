{
 "cells": [
  {
   "cell_type": "code",
   "execution_count": 1,
   "metadata": {},
   "outputs": [
    {
     "name": "stdout",
     "output_type": "stream",
     "text": [
      "name: \"Alice\", age: 20, grades: [90, 85, 88]\n"
     ]
    }
   ],
   "source": [
    "# Create a class to represent a Student with attributes like name, age, and grades.\n",
    "class Student:\n",
    "    def __init__(self, name, age, grades):\n",
    "        self.name = name\n",
    "        self.age = age\n",
    "        self.grades = grades\n",
    "\n",
    "    def __str__(self):\n",
    "        return f'name: \"{self.name}\", age: {self.age}, grades: {self.grades}'\n",
    "\n",
    "student = Student(\"Alice\", 20, [90, 85, 88])\n",
    "print(student)\n"
   ]
  },
  {
   "cell_type": "code",
   "execution_count": 2,
   "metadata": {},
   "outputs": [
    {
     "name": "stdout",
     "output_type": "stream",
     "text": [
      "Employee(name=\"John Doe\", position=\"Manager\", salary=75000)\n",
      "Employee(name=\"Jane Smith\", position=\"Engineer\", salary=80000)\n"
     ]
    }
   ],
   "source": [
    "# Given a CSV file with employee details (name, position, salary), create a class to\n",
    "# represent an Employee.\n",
    "\n",
    "import csv\n",
    "\n",
    "class Employee:\n",
    "    def __init__(self, name, position, salary):\n",
    "        self.name = name\n",
    "        self.position = position\n",
    "        self.salary = salary\n",
    "\n",
    "    def __str__(self):\n",
    "        return f'Employee(name=\"{self.name}\", position=\"{self.position}\", salary={self.salary})'\n",
    "\n",
    "def read_employees_from_csv(file_path):\n",
    "    employees = []\n",
    "    with open(file_path, mode='r', newline='') as file:\n",
    "        reader = csv.reader(file)\n",
    "        for row in reader:\n",
    "            name, position, salary = row[0], row[1], int(row[2])\n",
    "            employee = Employee(name, position, salary)\n",
    "            employees.append(employee)\n",
    "    return employees\n",
    "\n",
    "employees = [\n",
    "    Employee(\"John Doe\", \"Manager\", 75000),\n",
    "    Employee(\"Jane Smith\", \"Engineer\", 80000)\n",
    "]\n",
    "\n",
    "for employee in employees:\n",
    "    print(employee)\n"
   ]
  },
  {
   "cell_type": "code",
   "execution_count": 3,
   "metadata": {},
   "outputs": [
    {
     "name": "stdout",
     "output_type": "stream",
     "text": [
      "account_number: \"12345678\", balance: 1000\n",
      "Deposited: 500. New balance: 1500\n",
      "Withdrew: 200. New balance: 1300\n",
      "Current Balance: 1300\n"
     ]
    }
   ],
   "source": [
    "# Implement a program that simulates a basic bank account using a BankAccount\n",
    "# class.\n",
    "class BankAccount:\n",
    "    def __init__(self, account_number, initial_balance):\n",
    "        self.account_number = account_number\n",
    "        self.balance = initial_balance\n",
    "\n",
    "    def deposit(self, amount):\n",
    "        if amount > 0:\n",
    "            self.balance += amount\n",
    "            print(f\"Deposited: {amount}. New balance: {self.balance}\")\n",
    "        else:\n",
    "            print(\"Deposit amount must be positive.\")\n",
    "\n",
    "    def withdraw(self, amount):\n",
    "        if 0 < amount <= self.balance:\n",
    "            self.balance -= amount\n",
    "            print(f\"Withdrew: {amount}. New balance: {self.balance}\")\n",
    "        else:\n",
    "            print(\"Withdrawal amount must be positive and not exceed the balance.\")\n",
    "\n",
    "    def get_balance(self):\n",
    "        return self.balance\n",
    "\n",
    "    def __str__(self):\n",
    "        return f'account_number: \"{self.account_number}\", balance: {self.balance}'\n",
    "\n",
    "account = BankAccount(\"12345678\", 1000)\n",
    "print(account)\n",
    "\n",
    "account.deposit(500)\n",
    "account.withdraw(200)\n",
    "print(f\"Current Balance: {account.get_balance()}\")\n"
   ]
  },
  {
   "cell_type": "code",
   "execution_count": 4,
   "metadata": {},
   "outputs": [
    {
     "name": "stdout",
     "output_type": "stream",
     "text": [
      "area: 15, perimeter: 16\n"
     ]
    }
   ],
   "source": [
    "# Write a Python program that uses a Rectangle class to calculate the area and\n",
    "# perimeter of a rectangle\n",
    "class Rectangle:\n",
    "    def __init__(self, length, width):\n",
    "        self.length = length\n",
    "        self.width = width\n",
    "\n",
    "    def area(self):\n",
    "        return self.length * self.width\n",
    "\n",
    "    def perimeter(self):\n",
    "        return 2 * (self.length + self.width)\n",
    "\n",
    "    def __str__(self):\n",
    "        return f'area: {self.area()}, perimeter: {self.perimeter()}'\n",
    "\n",
    "rectangle = Rectangle(5, 3)\n",
    "print(rectangle)\n"
   ]
  },
  {
   "cell_type": "code",
   "execution_count": 5,
   "metadata": {},
   "outputs": [
    {
     "name": "stdout",
     "output_type": "stream",
     "text": [
      "make: \"Toyota\", model: \"Camry\", year: 2020\n"
     ]
    }
   ],
   "source": [
    "# 5. Create a class to represent a Car with attributes like make, model, and year.\n",
    "\n",
    "class Car:\n",
    "    def __init__(self, make, model, year):\n",
    "        self.make = make\n",
    "        self.model = model\n",
    "        self.year = year\n",
    "\n",
    "    def __str__(self):\n",
    "        return f'make: \"{self.make}\", model: \"{self.model}\", year: {self.year}'\n",
    "\n",
    "car = Car(\"Toyota\", \"Camry\", 2020)\n",
    "print(car)\n"
   ]
  },
  {
   "cell_type": "code",
   "execution_count": 6,
   "metadata": {},
   "outputs": [
    {
     "name": "stdout",
     "output_type": "stream",
     "text": [
      "Customer(name=\"John Doe\", email=\"john.doe@example.com\")\n"
     ]
    }
   ],
   "source": [
    "# Given a JSON file with customer data, create a Customer class to store and\n",
    "# manipulate the data.\n",
    "\n",
    "import json\n",
    "\n",
    "class Customer:\n",
    "    def __init__(self, name, email):\n",
    "        self.name = name\n",
    "        self.email = email\n",
    "\n",
    "    def __str__(self):\n",
    "        return f'Customer(name=\"{self.name}\", email=\"{self.email}\")'\n",
    "\n",
    "def read_customer_from_json(file_path):\n",
    "    with open(file_path, 'r') as file:\n",
    "        data = json.load(file)\n",
    "        customer = Customer(data['name'], data['email'])\n",
    "        return customer\n",
    "\n",
    "customer = Customer(\"John Doe\", \"john.doe@example.com\")\n",
    "print(customer)\n"
   ]
  },
  {
   "cell_type": "code",
   "execution_count": 8,
   "metadata": {},
   "outputs": [
    {
     "name": "stdout",
     "output_type": "stream",
     "text": [
      "name: \"John Doe\", age: 30, address: \"123 Main St\"\n"
     ]
    }
   ],
   "source": [
    "# Write a program that uses a Person class to keep track of a person's name, age,\n",
    "# and address.\n",
    "class Person:\n",
    "    def __init__(self, name, age, address):\n",
    "        self.name = name\n",
    "        self.age = age\n",
    "        self.address = address\n",
    "\n",
    "    def __str__(self):\n",
    "        return f'name: \"{self.name}\", age: {self.age}, address: \"{self.address}\"'\n",
    "\n",
    "person = Person(\"John Doe\", 30, \"123 Main St\")\n",
    "print(person)\n"
   ]
  },
  {
   "cell_type": "code",
   "execution_count": 9,
   "metadata": {},
   "outputs": [
    {
     "name": "stdout",
     "output_type": "stream",
     "text": [
      "area: 50.27, circumference: 25.13\n",
      "area: 78.54, circumference: 31.42\n"
     ]
    }
   ],
   "source": [
    "# Implement a program that uses a Circle class to calculate the area and\n",
    "# circumference of multiple circles.\n",
    "\n",
    "import math\n",
    "\n",
    "class Circle:\n",
    "    def __init__(self, radius):\n",
    "        self.radius = radius\n",
    "\n",
    "    def area(self):\n",
    "        return math.pi * (self.radius ** 2)\n",
    "\n",
    "    def circumference(self):\n",
    "        return 2 * math.pi * self.radius\n",
    "\n",
    "    def __str__(self):\n",
    "        return (f'area: {self.area():.2f}, '\n",
    "                f'circumference: {self.circumference():.2f}')\n",
    "\n",
    "circle = Circle(4)\n",
    "print(circle)\n",
    "\n",
    "circle2 = Circle(5)\n",
    "print(circle2)\n"
   ]
  },
  {
   "cell_type": "code",
   "execution_count": 10,
   "metadata": {},
   "outputs": [
    {
     "name": "stdout",
     "output_type": "stream",
     "text": [
      "Product(name=\"Laptop\", price=1000, quantity=5)\n",
      "Product(name=\"Phone\", price=500, quantity=10)\n"
     ]
    }
   ],
   "source": [
    "# Given a CSV file with product details (name, price, quantity), create a Product\n",
    "# class to manage the data.\n",
    "import csv\n",
    "\n",
    "class Product:\n",
    "    def __init__(self, name, price, quantity):\n",
    "        self.name = name\n",
    "        self.price = price\n",
    "        self.quantity = quantity\n",
    "\n",
    "    def __str__(self):\n",
    "        return f'Product(name=\"{self.name}\", price={self.price}, quantity={self.quantity})'\n",
    "\n",
    "def read_products_from_csv(file_path):\n",
    "    products = []\n",
    "    with open(file_path, mode='r', newline='') as file:\n",
    "        reader = csv.reader(file)\n",
    "        for row in reader:\n",
    "            name = row[0]\n",
    "            price = float(row[1]) \n",
    "            quantity = int(row[2]) \n",
    "            product = Product(name, price, quantity)\n",
    "            products.append(product)\n",
    "    return products\n",
    "\n",
    "products = [\n",
    "    Product(\"Laptop\", 1000, 5),\n",
    "    Product(\"Phone\", 500, 10)\n",
    "]\n",
    "\n",
    "for product in products:\n",
    "    print(product)\n"
   ]
  },
  {
   "cell_type": "code",
   "execution_count": 11,
   "metadata": {},
   "outputs": [
    {
     "name": "stdout",
     "output_type": "stream",
     "text": [
      "title: \"Inception\", director: \"Christopher Nolan\", rating: 8.8\n"
     ]
    }
   ],
   "source": [
    "# Create a class to represent a Movie with attributes like title, director, and rating\n",
    "class Movie:\n",
    "    def __init__(self, title, director, rating):\n",
    "        self.title = title\n",
    "        self.director = director\n",
    "        self.rating = rating\n",
    "\n",
    "    def __str__(self):\n",
    "        return (f'title: \"{self.title}\", '\n",
    "                f'director: \"{self.director}\", '\n",
    "                f'rating: {self.rating:.1f}')\n",
    "\n",
    "movie = Movie(\"Inception\", \"Christopher Nolan\", 8.8)\n",
    "print(movie)\n"
   ]
  },
  {
   "cell_type": "code",
   "execution_count": 12,
   "metadata": {},
   "outputs": [
    {
     "name": "stdout",
     "output_type": "stream",
     "text": [
      "Circle area: 50.27, Circle perimeter: 25.13\n",
      "Square area: 25, Square perimeter: 20\n"
     ]
    }
   ],
   "source": [
    "# Create a class to represent a Movie with attributes like title, director, and rating\n",
    "import math\n",
    "\n",
    "class Shape:\n",
    "    def area(self):\n",
    "        raise NotImplementedError(\"Subclasses must implement this method\")\n",
    "\n",
    "    def perimeter(self):\n",
    "        raise NotImplementedError(\"Subclasses must implement this method\")\n",
    "\n",
    "\n",
    "class Circle(Shape):\n",
    "    def __init__(self, radius):\n",
    "        self.radius = radius\n",
    "\n",
    "    def area(self):\n",
    "        return math.pi * (self.radius ** 2)\n",
    "\n",
    "    def perimeter(self):\n",
    "        return 2 * math.pi * self.radius\n",
    "\n",
    "\n",
    "class Square(Shape):\n",
    "    def __init__(self, side):\n",
    "        self.side = side\n",
    "\n",
    "    def area(self):\n",
    "        return self.side ** 2\n",
    "\n",
    "    def perimeter(self):\n",
    "        return 4 * self.side\n",
    "\n",
    "\n",
    "circle = Circle(4)\n",
    "square = Square(5)\n",
    "\n",
    "print(f'Circle area: {circle.area():.2f}, Circle perimeter: {circle.perimeter():.2f}')\n",
    "print(f'Square area: {square.area()}, Square perimeter: {square.perimeter()}')\n"
   ]
  },
  {
   "cell_type": "code",
   "execution_count": 15,
   "metadata": {},
   "outputs": [
    {
     "name": "stdout",
     "output_type": "stream",
     "text": [
      "Manager: John Doe, Department: Sales\n",
      "Engineer: Jane Smith, Field: Software\n"
     ]
    }
   ],
   "source": [
    "# Implement a class hierarchy to represent different types of employees (Manager,\n",
    "# Engineer) with their attributes.\n",
    "\n",
    "class Employee:\n",
    "    def __init__(self, name):\n",
    "        self.name = name\n",
    "\n",
    "    def __str__(self):\n",
    "        return f'Employee: {self.name}'\n",
    "\n",
    "class Manager(Employee):\n",
    "    def __init__(self, name, department):\n",
    "        super().__init__(name)\n",
    "        self.department = department\n",
    "\n",
    "    def __str__(self):\n",
    "        return f'Manager: {self.name}, Department: {self.department}'\n",
    "\n",
    "class Engineer(Employee):\n",
    "    def __init__(self, name, field):\n",
    "        super().__init__(name)\n",
    "        self.field = field\n",
    "\n",
    "    def __str__(self):\n",
    "        return f'Engineer: {self.name}, Field: {self.field}'\n",
    "\n",
    "manager = Manager(name=\"John Doe\", department=\"Sales\")\n",
    "engineer = Engineer(name=\"Jane Smith\", field=\"Software\")\n",
    "\n",
    "print(manager)\n",
    "print(engineer)\n"
   ]
  },
  {
   "cell_type": "code",
   "execution_count": 16,
   "metadata": {},
   "outputs": [
    {
     "name": "stdout",
     "output_type": "stream",
     "text": [
      "Triangle area: 7.5, Rectangle area: 8\n"
     ]
    }
   ],
   "source": [
    "# Write a Python program that uses inheritance to represent a hierarchy of shapes\n",
    "# (Triangle, Rectangle, etc.).\n",
    "\n",
    "class Shape:\n",
    "    def area(self):\n",
    "        raise NotImplementedError(\"Subclasses must implement this method\")\n",
    "\n",
    "class Triangle(Shape):\n",
    "    def __init__(self, base, height):\n",
    "        self.base = base\n",
    "        self.height = height\n",
    "\n",
    "    def area(self):\n",
    "        return 0.5 * self.base * self.height\n",
    "\n",
    "class Rectangle(Shape):\n",
    "    def __init__(self, length, width):\n",
    "        self.length = length\n",
    "        self.width = width\n",
    "\n",
    "    def area(self):\n",
    "        return self.length * self.width\n",
    "\n",
    "triangle = Triangle(base=5, height=3)\n",
    "rectangle = Rectangle(length=4, width=2)\n",
    "\n",
    "print(f'Triangle area: {triangle.area()}, Rectangle area: {rectangle.area()}')\n"
   ]
  },
  {
   "cell_type": "code",
   "execution_count": 17,
   "metadata": {},
   "outputs": [
    {
     "name": "stdout",
     "output_type": "stream",
     "text": [
      "Bird: Parrot, Can Fly: True\n",
      "Fish: Goldfish, Can Swim: True\n"
     ]
    }
   ],
   "source": [
    "# Create a class hierarchy to represent different types of animals (Bird, Fish) with\n",
    "# their own attributes and methods.\n",
    "\n",
    "class Animal:\n",
    "    def __init__(self, name):\n",
    "        self.name = name\n",
    "\n",
    "    def __str__(self):\n",
    "        return f'Animal: {self.name}'\n",
    "\n",
    "class Bird(Animal):\n",
    "    def __init__(self, name, can_fly):\n",
    "        super().__init__(name)\n",
    "        self.can_fly = can_fly\n",
    "\n",
    "    def __str__(self):\n",
    "        return f'Bird: {self.name}, Can Fly: {self.can_fly}'\n",
    "\n",
    "class Fish(Animal):\n",
    "    def __init__(self, name, can_swim):\n",
    "        super().__init__(name)\n",
    "        self.can_swim = can_swim\n",
    "\n",
    "    def __str__(self):\n",
    "        return f'Fish: {self.name}, Can Swim: {self.can_swim}'\n",
    "\n",
    "bird = Bird(name=\"Parrot\", can_fly=True)\n",
    "fish = Fish(name=\"Goldfish\", can_swim=True)\n",
    "\n",
    "print(bird)\n",
    "print(fish)\n"
   ]
  },
  {
   "cell_type": "code",
   "execution_count": 18,
   "metadata": {},
   "outputs": [
    {
     "name": "stdout",
     "output_type": "stream",
     "text": [
      "Product(name=\"Laptop\", price=1000, quantity=5)\n"
     ]
    }
   ],
   "source": [
    "# Given a JSON file with product details (name, price, quantity), create a Product\n",
    "# class with encapsulated attributes.\n",
    "\n",
    "import json\n",
    "\n",
    "class Product:\n",
    "    def __init__(self, name, price, quantity):\n",
    "        self._name = name\n",
    "        self._price = price\n",
    "        self._quantity = quantity\n",
    "\n",
    "    @property\n",
    "    def name(self):\n",
    "        return self._name\n",
    "\n",
    "    @property\n",
    "    def price(self):\n",
    "        return self._price\n",
    "\n",
    "    @property\n",
    "    def quantity(self):\n",
    "        return self._quantity\n",
    "\n",
    "    def __str__(self):\n",
    "        return f'Product(name=\"{self.name}\", price={self.price}, quantity={self.quantity})'\n",
    "\n",
    "def read_product_from_json(file_path):\n",
    "    with open(file_path, 'r') as file:\n",
    "        data = json.load(file)\n",
    "        product = Product(data['name'], data['price'], data['quantity'])\n",
    "        return product\n",
    "\n",
    "\n",
    "product = Product(\"Laptop\", 1000, 5)\n",
    "print(product)\n"
   ]
  },
  {
   "cell_type": "code",
   "execution_count": 19,
   "metadata": {},
   "outputs": [
    {
     "name": "stdout",
     "output_type": "stream",
     "text": [
      "Car: Toyota Camry\n",
      "Bike: Yamaha MT-07\n"
     ]
    }
   ],
   "source": [
    "# Implement a program that uses inheritance to represent a hierarchy of vehicles\n",
    "# (Car, Bike, Truck, etc.).\n",
    "class Vehicle:\n",
    "    def __init__(self, make, model):\n",
    "        self.make = make\n",
    "        self.model = model\n",
    "\n",
    "    def __str__(self):\n",
    "        return f'{self.__class__.__name__}: {self.make} {self.model}'\n",
    "\n",
    "class Car(Vehicle):\n",
    "    def __init__(self, make, model):\n",
    "        super().__init__(make, model)\n",
    "\n",
    "class Bike(Vehicle):\n",
    "    def __init__(self, make, model):\n",
    "        super().__init__(make, model)\n",
    "\n",
    "class Truck(Vehicle):\n",
    "    def __init__(self, make, model):\n",
    "        super().__init__(make, model)\n",
    "\n",
    "car = Car(make=\"Toyota\", model=\"Camry\")\n",
    "bike = Bike(make=\"Yamaha\", model=\"MT-07\")\n",
    "\n",
    "print(car)\n",
    "print(bike)\n"
   ]
  },
  {
   "cell_type": "code",
   "execution_count": 20,
   "metadata": {},
   "outputs": [
    {
     "name": "stdout",
     "output_type": "stream",
     "text": [
      "username: \"john_doe\", password: \"******\"\n"
     ]
    }
   ],
   "source": [
    "# Write a Python program that uses encapsulation to protect sensitive information\n",
    "# in a User class.\n",
    "\n",
    "class User:\n",
    "    def __init__(self, username, password):\n",
    "        self._username = username \n",
    "        self._password = password \n",
    "\n",
    "    @property\n",
    "    def username(self):\n",
    "        return self._username\n",
    "\n",
    "    @property\n",
    "    def password(self):\n",
    "        return \"******\"\n",
    "\n",
    "    def __str__(self):\n",
    "        return f'username: \"{self.username}\", password: \"{self.password}\"'\n",
    "\n",
    "user = User(username=\"john_doe\", password=\"secure123\")\n",
    "print(user)\n"
   ]
  },
  {
   "cell_type": "code",
   "execution_count": 22,
   "metadata": {},
   "outputs": [
    {
     "name": "stdout",
     "output_type": "stream",
     "text": [
      "name: \"City Library\", address: \"123 Main St\", books: ['Book2']\n"
     ]
    }
   ],
   "source": [
    "# Create a class Library with attributes like name, address, and a\n",
    "# list of books. Implement methods to add and remove books.\n",
    "\n",
    "class Library:\n",
    "    def __init__(self, name, address):\n",
    "        self.name = name\n",
    "        self.address = address\n",
    "        self.books = []\n",
    "\n",
    "    def add_book(self, book_title):\n",
    "        self.books.append(book_title)\n",
    "\n",
    "    def remove_book(self, book_title):\n",
    "        if book_title in self.books:\n",
    "            self.books.remove(book_title)\n",
    "\n",
    "    def __str__(self):\n",
    "        return f'name: \"{self.name}\", address: \"{self.address}\", books: {self.books}'\n",
    "\n",
    "library = Library(name=\"City Library\", address=\"123 Main St\")\n",
    "library.add_book(\"Book1\")\n",
    "library.add_book(\"Book2\")\n",
    "library.remove_book(\"Book1\")\n",
    "\n",
    "print(library)"
   ]
  },
  {
   "cell_type": "code",
   "execution_count": 24,
   "metadata": {},
   "outputs": [
    {
     "name": "stdout",
     "output_type": "stream",
     "text": [
      "address: \"456 Elm St\", num_rooms: 4, price: 350000\n"
     ]
    }
   ],
   "source": [
    "# Create a class Library with attributes like name, address, and a\n",
    "# list of books. Implement methods to add and remove books.\n",
    "\n",
    "class House:\n",
    "    def __init__(self, address, num_rooms, price):\n",
    "        self.address = address\n",
    "        self.num_rooms = num_rooms\n",
    "        self.price = price\n",
    "\n",
    "    def display_details(self):\n",
    "        print(f'address: \"{self.address}\", num_rooms: {self.num_rooms}, price: {self.price}')\n",
    "\n",
    "house = House(address=\"456 Elm St\", num_rooms=4, price=350000)\n",
    "house.display_details()\n"
   ]
  },
  {
   "cell_type": "code",
   "execution_count": 26,
   "metadata": {},
   "outputs": [
    {
     "name": "stdout",
     "output_type": "stream",
     "text": [
      "title: \"Python 101\", author: \"John Doe\", price: 26.99\n"
     ]
    }
   ],
   "source": [
    "# Create a class Book with attributes title, author, and price.\n",
    "# Implement a method discount to apply a discount to the book's\n",
    "# price.\n",
    "\n",
    "class Book:\n",
    "    def __init__(self, title, author, price):\n",
    "        self.title = title\n",
    "        self.author = author\n",
    "        self.price = price\n",
    "\n",
    "    def discount(self, discount_rate):\n",
    "        self.price -= self.price * discount_rate\n",
    "\n",
    "    def display_details(self):\n",
    "        print(f'title: \"{self.title}\", author: \"{self.author}\", price: {self.price:.2f}')\n",
    "\n",
    "book = Book(title=\"Python 101\", author=\"John Doe\", price=29.99)\n",
    "book.discount(0.1)  \n",
    "book.display_details()\n"
   ]
  },
  {
   "cell_type": "code",
   "execution_count": 27,
   "metadata": {},
   "outputs": [
    {
     "name": "stdout",
     "output_type": "stream",
     "text": [
      "name: \"Sushi Place\", cuisine_type: \"Japanese\", rating: 4.8\n"
     ]
    }
   ],
   "source": [
    "# Create a class Restaurant with attributes name, cuisine_type, and\n",
    "# rating. Implement a method update_rating to change the\n",
    "# restaurant's rating.\n",
    "\n",
    "class Restaurant:\n",
    "    def __init__(self, name, cuisine_type, rating):\n",
    "        self.name = name\n",
    "        self.cuisine_type = cuisine_type\n",
    "        self.rating = rating\n",
    "\n",
    "    def update_rating(self, new_rating):\n",
    "        self.rating = new_rating\n",
    "\n",
    "    def display_details(self):\n",
    "        print(f'name: \"{self.name}\", cuisine_type: \"{self.cuisine_type}\", rating: {self.rating:.1f}')\n",
    "\n",
    "restaurant = Restaurant(name=\"Sushi Place\", cuisine_type=\"Japanese\", rating=4.5)\n",
    "restaurant.update_rating(4.8)  # Updating the rating\n",
    "restaurant.display_details()\n"
   ]
  }
 ],
 "metadata": {
  "kernelspec": {
   "display_name": "Python 3",
   "language": "python",
   "name": "python3"
  },
  "language_info": {
   "codemirror_mode": {
    "name": "ipython",
    "version": 3
   },
   "file_extension": ".py",
   "mimetype": "text/x-python",
   "name": "python",
   "nbconvert_exporter": "python",
   "pygments_lexer": "ipython3",
   "version": "3.12.6"
  }
 },
 "nbformat": 4,
 "nbformat_minor": 2
}
