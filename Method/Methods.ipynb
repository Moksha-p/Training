{
 "cells": [
  {
   "cell_type": "code",
   "execution_count": 1,
   "metadata": {},
   "outputs": [
    {
     "name": "stdout",
     "output_type": "stream",
     "text": [
      "email = \"email@email.com\", password = \"abcd\"\n"
     ]
    }
   ],
   "source": [
    "class User:\n",
    "    def __init__(self, username, email, password):\n",
    "        self.username = username\n",
    "        self.email = email\n",
    "        self.password = password\n",
    "\n",
    "    def update_email(self, new_email):\n",
    "        self.email = new_email\n",
    "\n",
    "    def update_password(self, new_password):\n",
    "        self.password = new_password\n",
    "\n",
    "    def dis(self):\n",
    "        return f'email = \"{self.email}\", password = \"{self.password}\"'\n",
    "\n",
    "user = User(username=\"username\", email=\"email@email.com\", password=\"1234\")\n",
    "user.update_email(\"email@email.com\")  \n",
    "user.update_password(\"abcd\")          \n",
    "print(user.dis())\n"
   ]
  },
  {
   "cell_type": "code",
   "execution_count": 2,
   "metadata": {},
   "outputs": [
    {
     "name": "stdout",
     "output_type": "stream",
     "text": [
      "score = 10, health = 90\n"
     ]
    }
   ],
   "source": [
    "class Player:\n",
    "    def __init__(self, name, score=0, health=100):\n",
    "        self.name = name\n",
    "        self.score = score\n",
    "        self.health = health\n",
    "\n",
    "    def increase_score(self, amount):\n",
    "        self.score += amount\n",
    "\n",
    "    def decrease_health(self, amount):\n",
    "        self.health -= amount\n",
    "\n",
    "    def heal(self, amount):\n",
    "        self.health += amount\n",
    "\n",
    "    def dis(self):\n",
    "        return f'score = {self.score}, health = {self.health}'\n",
    "\n",
    "\n",
    "player = Player(name=\"Player1\", score=0, health=100)\n",
    "player.increase_score(10)\n",
    "player.decrease_health(20)\n",
    "player.heal(10)\n",
    "print(player.dis())\n"
   ]
  },
  {
   "cell_type": "code",
   "execution_count": 3,
   "metadata": {},
   "outputs": [
    {
     "name": "stdout",
     "output_type": "stream",
     "text": [
      "balance = 1500\n",
      "balance = 1300\n",
      "Withdrawal amount exceeds balance. Transaction failed.\n",
      "balance = 1300\n"
     ]
    }
   ],
   "source": [
    "class BankAccount:\n",
    "    def __init__(self, account_number, balance=0):\n",
    "        self.account_number = account_number\n",
    "        self.balance = balance\n",
    "\n",
    "    def deposit(self, amount):\n",
    "        self.balance += amount\n",
    "\n",
    "    def withdraw(self, amount):\n",
    "        if amount <= self.balance:\n",
    "            self.balance -= amount\n",
    "        else:\n",
    "            print(\"Withdrawal amount exceeds balance. Transaction failed.\")\n",
    "\n",
    "    def dis(self):\n",
    "        return f'balance = {self.balance}'\n",
    "\n",
    "account = BankAccount(account_number=\"12345678\", balance=1000)\n",
    "account.deposit(500)\n",
    "print(account.dis())\n",
    "account.withdraw(200)\n",
    "print(account.dis())\n",
    "account.withdraw(1500)\n",
    "print(account.dis())\n"
   ]
  },
  {
   "cell_type": "code",
   "execution_count": 4,
   "metadata": {},
   "outputs": [
    {
     "name": "stdout",
     "output_type": "stream",
     "text": [
      "connections = 1\n"
     ]
    }
   ],
   "source": [
    "class Database:\n",
    "    connections = 0\n",
    "\n",
    "    @classmethod\n",
    "    def add_connection(cls):\n",
    "        cls.connections += 1\n",
    "\n",
    "    @classmethod\n",
    "    def dis(cls):\n",
    "        return f'connections = {cls.connections}'\n",
    "\n",
    "Database.add_connection()\n",
    "print(Database.dis())\n"
   ]
  },
  {
   "cell_type": "code",
   "execution_count": 5,
   "metadata": {},
   "outputs": [
    {
     "name": "stdout",
     "output_type": "stream",
     "text": [
      "Pizza(name=\"Margherita\", ingredients=['cheese', 'tomato'])\n",
      "Pizza(name=\"Pepperoni\", ingredients=['cheese', 'pepperoni'])\n"
     ]
    }
   ],
   "source": [
    "class Pizza:\n",
    "    def __init__(self, name, ingredients):\n",
    "        self.name = name\n",
    "        self.ingredients = ingredients\n",
    "\n",
    "    @classmethod\n",
    "    def create_margherita(cls):\n",
    "        return cls(name=\"Margherita\", ingredients=[\"cheese\", \"tomato\"])\n",
    "\n",
    "    @classmethod\n",
    "    def create_pepperoni(cls):\n",
    "        return cls(name=\"Pepperoni\", ingredients=[\"cheese\", \"pepperoni\"])\n",
    "\n",
    "    def dis(self):\n",
    "        return f'Pizza(name=\"{self.name}\", ingredients={self.ingredients})'\n",
    "\n",
    "margherita = Pizza.create_margherita()\n",
    "pepperoni = Pizza.create_pepperoni()\n",
    "\n",
    "print(margherita.dis())\n",
    "print(pepperoni.dis())\n"
   ]
  },
  {
   "cell_type": "code",
   "execution_count": 6,
   "metadata": {},
   "outputs": [
    {
     "name": "stdout",
     "output_type": "stream",
     "text": [
      "total_books = 5\n"
     ]
    }
   ],
   "source": [
    "class Library:\n",
    "    total_books = 0\n",
    "\n",
    "    @classmethod\n",
    "    def add_book(cls, count):\n",
    "        cls.total_books += count\n",
    "\n",
    "    @classmethod\n",
    "    def get_total_books(cls):\n",
    "        return cls.total_books\n",
    "\n",
    "\n",
    "Library.add_book(5)\n",
    "print(f'total_books = {Library.get_total_books()}')\n"
   ]
  },
  {
   "cell_type": "code",
   "execution_count": 34,
   "metadata": {},
   "outputs": [
    {
     "name": "stdout",
     "output_type": "stream",
     "text": [
      "15\n",
      "5\n",
      "50\n",
      "2.0\n",
      "Can't divide by Zero\n"
     ]
    }
   ],
   "source": [
    "class Calculator:\n",
    "    \n",
    "    @staticmethod\n",
    "    def add(a,b):\n",
    "        return a+b\n",
    "    \n",
    "    @staticmethod\n",
    "    def sub(a,b):\n",
    "        return a-b\n",
    "    \n",
    "    @staticmethod\n",
    "    def mul(a,b):\n",
    "        return a*b\n",
    "    \n",
    "    @staticmethod\n",
    "    def div(a,b):\n",
    "        if b == 0:\n",
    "            return \"Can't divide by Zero\"\n",
    "        return a/b\n",
    "    \n",
    "print(Calculator.add(10,5))\n",
    "print(Calculator.sub(10,5))\n",
    "print(Calculator.mul(10,5))\n",
    "print(Calculator.div(10,5))\n",
    "print(Calculator.div(10,0))\n"
   ]
  },
  {
   "cell_type": "code",
   "execution_count": 44,
   "metadata": {},
   "outputs": [
    {
     "name": "stdout",
     "output_type": "stream",
     "text": [
      "racecar\n",
      "racecar is palindrome: True\n"
     ]
    }
   ],
   "source": [
    "class StringUtils:\n",
    "\n",
    "    @staticmethod\n",
    "    def reverse_string(s):\n",
    "        s1 = s[::-1]\n",
    "        return s1\n",
    "    \n",
    "    @staticmethod\n",
    "    def is_palindrome(s):\n",
    "        if StringUtils.reverse_string(s) == s:\n",
    "            return True\n",
    "        else:\n",
    "            return False\n",
    "\n",
    "s = \"racecar\"     \n",
    "print(StringUtils.reverse_string(s))\n",
    "print(f'{s} is palindrome:',StringUtils.is_palindrome(s))\n"
   ]
  },
  {
   "cell_type": "code",
   "execution_count": 41,
   "metadata": {},
   "outputs": [
    {
     "name": "stdout",
     "output_type": "stream",
     "text": [
      "Is leap year: False\n",
      "days_in_month: 28\n"
     ]
    }
   ],
   "source": [
    "class DateUtils:\n",
    "\n",
    "    @staticmethod\n",
    "    def is_leap_year(year):\n",
    "        if (year % 4) == 0:\n",
    "            return True\n",
    "        else:\n",
    "            return False\n",
    "        \n",
    "    @staticmethod\n",
    "    def days_in_month(year,month):\n",
    "        d = [31,28,31,30,31,30,31,31,30,31,30,31]\n",
    "        if month == 2 and DateUtils.is_leap_year(year):\n",
    "            return 29\n",
    "        else:\n",
    "            return d[month-1]\n",
    "        \n",
    "month = 2\n",
    "year = 2021\n",
    "\n",
    "print(\"Is leap year:\",DateUtils.is_leap_year(year))\n",
    "print(\"days_in_month:\",DateUtils.days_in_month(year,month))\n",
    "        \n"
   ]
  }
 ],
 "metadata": {
  "kernelspec": {
   "display_name": "Python 3",
   "language": "python",
   "name": "python3"
  },
  "language_info": {
   "codemirror_mode": {
    "name": "ipython",
    "version": 3
   },
   "file_extension": ".py",
   "mimetype": "text/x-python",
   "name": "python",
   "nbconvert_exporter": "python",
   "pygments_lexer": "ipython3",
   "version": "3.12.6"
  }
 },
 "nbformat": 4,
 "nbformat_minor": 2
}
